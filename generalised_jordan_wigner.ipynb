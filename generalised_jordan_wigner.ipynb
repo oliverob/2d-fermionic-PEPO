{
 "cells": [
  {
   "cell_type": "code",
   "execution_count": 1,
   "id": "3d15a681-5f28-49e0-902d-ac56b344f6cf",
   "metadata": {},
   "outputs": [],
   "source": [
    "include(\"./arbitary_graph_operator_conversion.jl\")\n",
    "using .PEPOAnalysis\n",
    "using Graphs, GraphPlot\n"
   ]
  },
  {
   "cell_type": "code",
   "execution_count": 2,
   "id": "e1d59377",
   "metadata": {},
   "outputs": [
    {
     "data": {
      "application/vnd.webio.node+json": {
       "children": [],
       "instanceArgs": {
        "namespace": "html",
        "tag": "div"
       },
       "nodeType": "DOM",
       "props": {},
       "type": "node"
      },
      "text/html": [
       "<div style=\"padding: 1em; background-color: #f8d6da; border: 1px solid #f5c6cb; font-weight: bold;\">\n",
       "<p>The WebIO Jupyter extension was not detected. See the\n",
       "<a href=\"https://juliagizmos.github.io/WebIO.jl/latest/providers/ijulia/\" target=\"_blank\">\n",
       "    WebIO Jupyter integration documentation\n",
       "</a>\n",
       "for more information.\n",
       "</div>\n"
      ],
      "text/plain": [
       "WebIO._IJuliaInit()"
      ]
     },
     "metadata": {
      "application/vnd.webio.node+json": {
       "kernelId": "51bf9d53-1a48-4e0a-bbb0-b74c0c4b0daf"
      }
     },
     "output_type": "display_data"
    },
    {
     "name": "stderr",
     "output_type": "stream",
     "text": [
      "\u001b[36m\u001b[1m[ \u001b[22m\u001b[39m\u001b[36m\u001b[1mInfo: \u001b[22m\u001b[39mListening on: 127.0.0.1:5637, thread id: 1\n"
     ]
    },
    {
     "name": "stdout",
     "output_type": "stream",
     "text": [
      "\n"
     ]
    }
   ],
   "source": [
    "using Blink\n",
    "window = Window()\n",
    "html = \"\"\"<sliders></sliders><graphs></graphs><results></results>\"\"\"\n",
    "body!(window, html, async=false)\n",
    "println()"
   ]
  },
  {
   "cell_type": "code",
   "execution_count": 3,
   "id": "9e7c970a-ed75-4a63-8d35-0501a1000c70",
   "metadata": {},
   "outputs": [
    {
     "data": {
      "text/plain": [
       "get_graphs (generic function with 1 method)"
      ]
     },
     "execution_count": 3,
     "metadata": {},
     "output_type": "execute_result"
    }
   ],
   "source": [
    "\n",
    "function get_graphs(interaction_graph_selection,PEPO_graph_selection, num_of_fermions)\n",
    "    \n",
    "    interaction_graph = complete_graph(num_of_fermions)\n",
    "    if interaction_graph_selection == \"Grid\"\n",
    "        width = floor(Int, sqrt(num_of_fermions))\n",
    "        interaction_graph = grid([width,floor(Int, num_of_fermions/width)])\n",
    "    end\n",
    "    PEPO_graph = complete_graph(num_of_fermions)\n",
    "    if PEPO_graph_selection == \"Grid\"\n",
    "        width = floor(Int, sqrt(num_of_fermions))\n",
    "        PEPO_graph = grid([width,floor(Int, num_of_fermions/width)])\n",
    "        if interaction_graph_selection == \"Complete Graph\"\n",
    "            interaction_graph = complete_graph(width*floor(Int, num_of_fermions/width))\n",
    "                \n",
    "        end\n",
    "    elseif PEPO_graph_selection == \"MST\"\n",
    "        PEPO_graph = Graph(prim_mst(interaction_graph))\n",
    "            \n",
    "    end\n",
    "\n",
    "\n",
    "    PEPO = convert_to_PEPO(PEPO_graph, false)\n",
    "\n",
    "    if (!is_connected(PEPO_graph))\n",
    "        throw(\"Not connected\")\n",
    "    end\n",
    "    \n",
    "    content!(window, \"graphs\", hbox(gplot(interaction_graph),gplot(PEPO, edgelabel=map((x)-> x[2],sort(collect(PEPO.edge_data), by=x->x[1])), edgelabelc=\"blue\", EDGELABELSIZE=8, nodelabel=map((x)-> x[2][2][1],sort(collect(PEPO.vertex_properties), by=x->x[1])))))\n",
    "#     gplot(PEPO, edgelabel=map((x)-> x[2],sort(collect(PEPO.edge_data), by=x->x[1])), edgelabelc=\"blue\", EDGELABELSIZE=8, nodelabel=map((x)-> x[2][2][1],sort(collect(PEPO.vertex_properties), by=x->x[1]))))\n",
    "\n",
    "#     display_graphs(PEPO, PEPO_graph, interaction_graph)\n",
    "    return PEPO, interaction_graph\n",
    "end"
   ]
  },
  {
   "cell_type": "code",
   "execution_count": 4,
   "id": "5f2ca3ab-4a53-479e-88e0-debc975cc8e9",
   "metadata": {},
   "outputs": [
    {
     "data": {
      "text/plain": [
       "compute_average_weights (generic function with 1 method)"
      ]
     },
     "execution_count": 4,
     "metadata": {},
     "output_type": "execute_result"
    }
   ],
   "source": [
    "function compute_average_weights(interaction_graph_selection,PEPO_graph_selection, num_of_fermions)\n",
    "    PEPO, interaction_graph = get_graphs(interaction_graph_selection,PEPO_graph_selection, num_of_fermions)\n",
    "    results = \"\"\n",
    "    try \n",
    "        results *= \"<p>Odd algebra average Pauli weight: \"* string(testing_odd_algebra(PEPO, interaction_graph)) *\"</p>\"\n",
    "    catch (e)\n",
    "        results *= \"<p>FAILED ODD ALGEBRA: $e</p>\"\n",
    "    end\n",
    "\n",
    "    try \n",
    "        results *= \"Even algebra average Pauli weight: \"* string(testing_even_algebra(PEPO, interaction_graph))\n",
    "    catch (e)\n",
    "        results *= \"FAILED EVEN ALGEBRA: $e\"\n",
    "    end\n",
    "    content!(window, \"results\", results)\n",
    "end"
   ]
  },
  {
   "cell_type": "code",
   "execution_count": 5,
   "id": "b7f2aba6-9d5c-4edb-b114-a17209c60da9",
   "metadata": {
    "tags": []
   },
   "outputs": [
    {
     "name": "stdout",
     "output_type": "stream",
     "text": [
      "\n"
     ]
    }
   ],
   "source": [
    "using Interact\n",
    "interaction_graph_selection = dropdown([\"Complete Graph\",\"Grid\"])\n",
    "PEPO_graph_selection = dropdown([\"Complete Graph\",\"Grid\", \"MST\"])\n",
    "num_of_fermions = slider(1:10, readout=true)\n",
    "on(n -> (compute_average_weights(n,PEPO_graph_selection[], num_of_fermions[]);),interaction_graph_selection)\n",
    "on(n -> (compute_average_weights(interaction_graph_selection[],n, num_of_fermions[])),PEPO_graph_selection)\n",
    "on(n -> (compute_average_weights(interaction_graph_selection[],PEPO_graph_selection[], n)),num_of_fermions)\n",
    "println(\"\")"
   ]
  },
  {
   "cell_type": "code",
   "execution_count": 6,
   "id": "1de29d11",
   "metadata": {},
   "outputs": [
    {
     "name": "stdout",
     "output_type": "stream",
     "text": [
      "\n"
     ]
    }
   ],
   "source": [
    "content!(window,\"sliders\", vbox(hbox(\"Interaction graph: \", interaction_graph_selection),hbox(\"PEPO graph: \", PEPO_graph_selection),hbox(\"Number of fermions: \",num_of_fermions)), async=false)\n",
    "\n",
    "println(\"\")"
   ]
  },
  {
   "cell_type": "code",
   "execution_count": null,
   "id": "5cafafc3",
   "metadata": {},
   "outputs": [],
   "source": []
  }
 ],
 "metadata": {
  "@webio": {
   "lastCommId": "ba0ce7ba6afc40e58bf3296b61de64e5",
   "lastKernelId": "51bf9d53-1a48-4e0a-bbb0-b74c0c4b0daf"
  },
  "kernelspec": {
   "display_name": "Julia 1.9.4",
   "language": "julia",
   "name": "julia-1.9"
  },
  "language_info": {
   "file_extension": ".jl",
   "mimetype": "application/julia",
   "name": "julia",
   "version": "1.9.4"
  }
 },
 "nbformat": 4,
 "nbformat_minor": 5
}
